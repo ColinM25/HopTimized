{
 "cells": [
  {
   "cell_type": "code",
   "execution_count": 1,
   "metadata": {},
   "outputs": [],
   "source": [
    "import requests\n",
    "import json\n",
    "import pandas as pd\n",
    "from datetime import date, datetime, timedelta"
   ]
  },
  {
   "cell_type": "code",
   "execution_count": 2,
   "metadata": {},
   "outputs": [],
   "source": [
    "from amadeus import Client, ResponseError\n",
    "\n",
    "amadeus = Client(\n",
    "    client_id='eXya3OTX00wsuNXBGgp9KGPbLYwSOOGI',\n",
    "    client_secret='ZtWWaZ3v56NtZAAp'\n",
    ")"
   ]
  },
  {
   "cell_type": "code",
   "execution_count": 3,
   "metadata": {},
   "outputs": [],
   "source": [
    "start_date = date(2025, 3, 22)\n",
    "end_date = date(2025, 3, 31)\n",
    "\n",
    "date_list = [(start_date + timedelta(days=i)).strftime('%Y-%m-%d') for i in range((end_date - start_date).days + 1)]\n",
    "\n",
    "from itertools import combinations\n",
    "\n",
    "cities = ['ORD', 'MDW', 'LAX', 'SNA', 'LGA', 'EWR', 'JFK']\n",
    "\n",
    "city_pairs_list = [list(pair) for pair in combinations(cities, 2)]"
   ]
  },
  {
   "cell_type": "code",
   "execution_count": 4,
   "metadata": {},
   "outputs": [],
   "source": [
    "response = amadeus.shopping.flight_offers_search.get(\n",
    "    originLocationCode='ORD',\n",
    "    destinationLocationCode='LGA',\n",
    "    departureDate='2025-05-01',\n",
    "    adults=1,\n",
    "    travelClass='ECONOMY',\n",
    "    nonStop='true',\n",
    "    currencyCode='USD',\n",
    "    max=100).result"
   ]
  },
  {
   "cell_type": "code",
   "execution_count": 8,
   "metadata": {},
   "outputs": [
    {
     "data": {
      "text/html": [
       "<div>\n",
       "<style scoped>\n",
       "    .dataframe tbody tr th:only-of-type {\n",
       "        vertical-align: middle;\n",
       "    }\n",
       "\n",
       "    .dataframe tbody tr th {\n",
       "        vertical-align: top;\n",
       "    }\n",
       "\n",
       "    .dataframe thead th {\n",
       "        text-align: right;\n",
       "    }\n",
       "</style>\n",
       "<table border=\"1\" class=\"dataframe\">\n",
       "  <thead>\n",
       "    <tr style=\"text-align: right;\">\n",
       "      <th></th>\n",
       "      <th>dep_code</th>\n",
       "      <th>dep_datetime</th>\n",
       "      <th>arv_code</th>\n",
       "      <th>arv_datetime</th>\n",
       "      <th>airline_code</th>\n",
       "      <th>flight_no</th>\n",
       "      <th>price_total</th>\n",
       "      <th>seats_remaining</th>\n",
       "    </tr>\n",
       "  </thead>\n",
       "  <tbody>\n",
       "    <tr>\n",
       "      <th>0</th>\n",
       "      <td>ORD</td>\n",
       "      <td>2025-05-01T06:00:00</td>\n",
       "      <td>LGA</td>\n",
       "      <td>2025-05-01T09:11:00</td>\n",
       "      <td>UA</td>\n",
       "      <td>680</td>\n",
       "      <td>108.48</td>\n",
       "      <td>9</td>\n",
       "    </tr>\n",
       "    <tr>\n",
       "      <th>1</th>\n",
       "      <td>ORD</td>\n",
       "      <td>2025-05-01T07:00:00</td>\n",
       "      <td>LGA</td>\n",
       "      <td>2025-05-01T10:11:00</td>\n",
       "      <td>UA</td>\n",
       "      <td>1657</td>\n",
       "      <td>108.48</td>\n",
       "      <td>9</td>\n",
       "    </tr>\n",
       "    <tr>\n",
       "      <th>2</th>\n",
       "      <td>ORD</td>\n",
       "      <td>2025-05-01T08:00:00</td>\n",
       "      <td>LGA</td>\n",
       "      <td>2025-05-01T11:16:00</td>\n",
       "      <td>UA</td>\n",
       "      <td>2200</td>\n",
       "      <td>108.48</td>\n",
       "      <td>9</td>\n",
       "    </tr>\n",
       "    <tr>\n",
       "      <th>3</th>\n",
       "      <td>ORD</td>\n",
       "      <td>2025-05-01T14:00:00</td>\n",
       "      <td>LGA</td>\n",
       "      <td>2025-05-01T17:15:00</td>\n",
       "      <td>UA</td>\n",
       "      <td>2306</td>\n",
       "      <td>108.48</td>\n",
       "      <td>2</td>\n",
       "    </tr>\n",
       "    <tr>\n",
       "      <th>4</th>\n",
       "      <td>ORD</td>\n",
       "      <td>2025-05-01T20:00:00</td>\n",
       "      <td>LGA</td>\n",
       "      <td>2025-05-01T23:18:00</td>\n",
       "      <td>UA</td>\n",
       "      <td>1576</td>\n",
       "      <td>147.46</td>\n",
       "      <td>9</td>\n",
       "    </tr>\n",
       "    <tr>\n",
       "      <th>5</th>\n",
       "      <td>ORD</td>\n",
       "      <td>2025-05-01T13:00:00</td>\n",
       "      <td>LGA</td>\n",
       "      <td>2025-05-01T16:13:00</td>\n",
       "      <td>UA</td>\n",
       "      <td>2189</td>\n",
       "      <td>178.50</td>\n",
       "      <td>9</td>\n",
       "    </tr>\n",
       "    <tr>\n",
       "      <th>6</th>\n",
       "      <td>ORD</td>\n",
       "      <td>2025-05-01T12:00:00</td>\n",
       "      <td>LGA</td>\n",
       "      <td>2025-05-01T15:15:00</td>\n",
       "      <td>UA</td>\n",
       "      <td>216</td>\n",
       "      <td>178.50</td>\n",
       "      <td>9</td>\n",
       "    </tr>\n",
       "    <tr>\n",
       "      <th>7</th>\n",
       "      <td>ORD</td>\n",
       "      <td>2025-05-01T16:00:00</td>\n",
       "      <td>LGA</td>\n",
       "      <td>2025-05-01T19:15:00</td>\n",
       "      <td>UA</td>\n",
       "      <td>1946</td>\n",
       "      <td>178.50</td>\n",
       "      <td>9</td>\n",
       "    </tr>\n",
       "    <tr>\n",
       "      <th>8</th>\n",
       "      <td>ORD</td>\n",
       "      <td>2025-05-01T18:00:00</td>\n",
       "      <td>LGA</td>\n",
       "      <td>2025-05-01T21:18:00</td>\n",
       "      <td>UA</td>\n",
       "      <td>1006</td>\n",
       "      <td>178.50</td>\n",
       "      <td>9</td>\n",
       "    </tr>\n",
       "  </tbody>\n",
       "</table>\n",
       "</div>"
      ],
      "text/plain": [
       "  dep_code         dep_datetime arv_code         arv_datetime airline_code  \\\n",
       "0      ORD  2025-05-01T06:00:00      LGA  2025-05-01T09:11:00           UA   \n",
       "1      ORD  2025-05-01T07:00:00      LGA  2025-05-01T10:11:00           UA   \n",
       "2      ORD  2025-05-01T08:00:00      LGA  2025-05-01T11:16:00           UA   \n",
       "3      ORD  2025-05-01T14:00:00      LGA  2025-05-01T17:15:00           UA   \n",
       "4      ORD  2025-05-01T20:00:00      LGA  2025-05-01T23:18:00           UA   \n",
       "5      ORD  2025-05-01T13:00:00      LGA  2025-05-01T16:13:00           UA   \n",
       "6      ORD  2025-05-01T12:00:00      LGA  2025-05-01T15:15:00           UA   \n",
       "7      ORD  2025-05-01T16:00:00      LGA  2025-05-01T19:15:00           UA   \n",
       "8      ORD  2025-05-01T18:00:00      LGA  2025-05-01T21:18:00           UA   \n",
       "\n",
       "  flight_no price_total  seats_remaining  \n",
       "0       680      108.48                9  \n",
       "1      1657      108.48                9  \n",
       "2      2200      108.48                9  \n",
       "3      2306      108.48                2  \n",
       "4      1576      147.46                9  \n",
       "5      2189      178.50                9  \n",
       "6       216      178.50                9  \n",
       "7      1946      178.50                9  \n",
       "8      1006      178.50                9  "
      ]
     },
     "execution_count": 8,
     "metadata": {},
     "output_type": "execute_result"
    }
   ],
   "source": [
    "flight_data = []\n",
    "for i in range(len(response['data'])):\n",
    "    data = {\n",
    "            \"dep_code\": response['data'][i]['itineraries'][0]['segments'][0]['departure']['iataCode'],\n",
    "            \"dep_datetime\": response['data'][i]['itineraries'][0]['segments'][0]['departure']['at'],\n",
    "            \"arv_code\": response['data'][i]['itineraries'][0]['segments'][0]['arrival']['iataCode'],\n",
    "            \"arv_datetime\": response['data'][i]['itineraries'][0]['segments'][0]['arrival']['at'],\n",
    "            \"airline_code\": response['data'][i]['itineraries'][0]['segments'][0]['carrierCode'],\n",
    "            \"flight_no\": response['data'][i]['itineraries'][0]['segments'][0]['number'],\n",
    "            \"price_total\": response['data'][i]['price']['grandTotal'],\n",
    "            \"seats_remaining\": response['data'][i]['numberOfBookableSeats']\n",
    "        }\n",
    "    flight_data.append(data)\n",
    "\n",
    "df = pd.DataFrame(flight_data)\n",
    "df"
   ]
  },
  {
   "cell_type": "code",
   "execution_count": 6,
   "metadata": {},
   "outputs": [
    {
     "data": {
      "text/plain": [
       "{'dep_code': 'ORD',\n",
       " 'dep_datetime': '2025-05-01T18:00:00',\n",
       " 'arv_code': 'LGA',\n",
       " 'arv_datetime': '2025-05-01T21:18:00',\n",
       " 'airline_code': 'UA',\n",
       " 'flight_no': '1006',\n",
       " 'price_total': '178.50',\n",
       " 'seats_remaining': 9}"
      ]
     },
     "execution_count": 6,
     "metadata": {},
     "output_type": "execute_result"
    }
   ],
   "source": [
    "data"
   ]
  },
  {
   "cell_type": "code",
   "execution_count": 7,
   "metadata": {},
   "outputs": [
    {
     "ename": "NameError",
     "evalue": "name 'a' is not defined",
     "output_type": "error",
     "traceback": [
      "\u001b[0;31m---------------------------------------------------------------------------\u001b[0m",
      "\u001b[0;31mNameError\u001b[0m                                 Traceback (most recent call last)",
      "Cell \u001b[0;32mIn[7], line 1\u001b[0m\n\u001b[0;32m----> 1\u001b[0m r \u001b[38;5;241m=\u001b[39m a\u001b[38;5;241m.\u001b[39mshopping\u001b[38;5;241m.\u001b[39mflight_offers_search\u001b[38;5;241m.\u001b[39mget(\n\u001b[1;32m      2\u001b[0m     originLocationCode \u001b[38;5;241m=\u001b[39m city_pairs_list[\u001b[38;5;241m0\u001b[39m][\u001b[38;5;241m0\u001b[39m],\n\u001b[1;32m      3\u001b[0m     destinationLocationCode \u001b[38;5;241m=\u001b[39m city_pairs_list[\u001b[38;5;241m0\u001b[39m][\u001b[38;5;241m1\u001b[39m],\n\u001b[1;32m      4\u001b[0m     departureDate\u001b[38;5;241m=\u001b[39m date_list[\u001b[38;5;241m0\u001b[39m],\n\u001b[1;32m      5\u001b[0m     adults \u001b[38;5;241m=\u001b[39m \u001b[38;5;241m1\u001b[39m,\n\u001b[1;32m      6\u001b[0m     travelClass \u001b[38;5;241m=\u001b[39m \u001b[38;5;124m'\u001b[39m\u001b[38;5;124mECONOMY\u001b[39m\u001b[38;5;124m'\u001b[39m,\n\u001b[1;32m      7\u001b[0m     currencyCode \u001b[38;5;241m=\u001b[39m \u001b[38;5;124m'\u001b[39m\u001b[38;5;124mUSD\u001b[39m\u001b[38;5;124m'\u001b[39m,\n\u001b[1;32m      8\u001b[0m     \u001b[38;5;28mmax\u001b[39m \u001b[38;5;241m=\u001b[39m \u001b[38;5;241m1\u001b[39m\n\u001b[1;32m      9\u001b[0m )\u001b[38;5;241m.\u001b[39mresult\n",
      "\u001b[0;31mNameError\u001b[0m: name 'a' is not defined"
     ]
    }
   ],
   "source": [
    "r = a.shopping.flight_offers_search.get(\n",
    "    originLocationCode = city_pairs_list[0][0],\n",
    "    destinationLocationCode = city_pairs_list[0][1],\n",
    "    departureDate= date_list[0],\n",
    "    adults = 1,\n",
    "    travelClass = 'ECONOMY',\n",
    "    currencyCode = 'USD',\n",
    "    max = 1\n",
    ").result"
   ]
  },
  {
   "cell_type": "code",
   "execution_count": null,
   "metadata": {},
   "outputs": [],
   "source": [
    "r"
   ]
  },
  {
   "cell_type": "code",
   "execution_count": null,
   "metadata": {},
   "outputs": [],
   "source": [
    "data = None\n",
    "\n",
    "try:\n",
    "    response = a.shopping.flight_offers_search.get(\n",
    "        originLocationCode='MAD',\n",
    "        destinationLocationCode='ATH',\n",
    "        departureDate='2025-5-01',\n",
    "        adults=1,\n",
    "        max=1)\n",
    "    data = response.data\n",
    "except ResponseError as error:\n",
    "    print(error)"
   ]
  },
  {
   "cell_type": "code",
   "execution_count": null,
   "metadata": {},
   "outputs": [],
   "source": [
    "data"
   ]
  },
  {
   "cell_type": "code",
   "execution_count": null,
   "metadata": {},
   "outputs": [],
   "source": [
    "data"
   ]
  }
 ],
 "metadata": {
  "kernelspec": {
   "display_name": "base",
   "language": "python",
   "name": "python3"
  },
  "language_info": {
   "codemirror_mode": {
    "name": "ipython",
    "version": 3
   },
   "file_extension": ".py",
   "mimetype": "text/x-python",
   "name": "python",
   "nbconvert_exporter": "python",
   "pygments_lexer": "ipython3",
   "version": "3.11.8"
  }
 },
 "nbformat": 4,
 "nbformat_minor": 2
}
