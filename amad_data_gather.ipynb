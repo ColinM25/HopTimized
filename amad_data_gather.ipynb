{
 "cells": [
  {
   "cell_type": "code",
   "execution_count": 52,
   "metadata": {},
   "outputs": [],
   "source": [
    "import requests\n",
    "import json\n",
    "import pandas as pd\n",
    "from datetime import date, datetime, timedelta\n",
    "from itertools import product, combinations\n",
    "import time"
   ]
  },
  {
   "cell_type": "markdown",
   "metadata": {},
   "source": [
    "client authentication <u>do not make this public</u>\n",
    "\n",
    "this is lazy security only becuase were using a free, capped api, production will need to be different"
   ]
  },
  {
   "cell_type": "code",
   "execution_count": 2,
   "metadata": {},
   "outputs": [],
   "source": [
    "from amadeus import Client, ResponseError\n",
    "\n",
    "amadeus = Client(\n",
    "    client_id='eXya3OTX00wsuNXBGgp9KGPbLYwSOOGI',\n",
    "    client_secret='ZtWWaZ3v56NtZAAp'\n",
    ")"
   ]
  },
  {
   "cell_type": "markdown",
   "metadata": {},
   "source": [
    "this is the search prep to get all the combos for the date range and airports"
   ]
  },
  {
   "cell_type": "code",
   "execution_count": 40,
   "metadata": {},
   "outputs": [],
   "source": [
    "start_date = date(2025, 3, 22)\n",
    "end_date = date(2025, 3, 31)\n",
    "\n",
    "date_list = [(start_date + timedelta(days=i)).strftime('%Y-%m-%d') for i in range((end_date - start_date).days + 1)]\n",
    "\n",
    "cities = ['ORD', 'MDW', 'LAX', 'SNA', 'LGA', 'EWR', 'JFK']\n",
    "\n",
    "city_pairs_list = [list(pair) for pair in combinations(cities, 2)]\n",
    "\n",
    "date_city_pairs_combo = [[date] + city_pair for date, city_pair in product(date_list, city_pairs_list)]\n"
   ]
  },
  {
   "cell_type": "markdown",
   "metadata": {},
   "source": [
    "had to add a `time.sleep(1)` so that we wouldn't over load the api. i think this is a function of it being test and not production bc i think we'd get a higher rate at production"
   ]
  },
  {
   "cell_type": "code",
   "execution_count": null,
   "metadata": {},
   "outputs": [],
   "source": [
    "index_no = 0\n",
    "\n",
    "for i in date_city_pairs_combo:\n",
    "    date = i[0]\n",
    "    orig = i[1]\n",
    "    dest = i[2]\n",
    "\n",
    "    time.sleep(1)\n",
    "\n",
    "    response = amadeus.shopping.flight_offers_search.get(\n",
    "        originLocationCode=orig,\n",
    "        destinationLocationCode=dest,\n",
    "        departureDate=date,\n",
    "        adults=1,\n",
    "        travelClass='ECONOMY',\n",
    "        nonStop='true',\n",
    "        currencyCode='USD',\n",
    "        max=100).result\n",
    "\n",
    "    flight_data = []\n",
    "    for i in range(len(response['data'])):\n",
    "        data = {\n",
    "                \"maual_index\": index_no,\n",
    "                \"dep_code\": response['data'][i]['itineraries'][0]['segments'][0]['departure']['iataCode'],\n",
    "                \"dep_datetime\": response['data'][i]['itineraries'][0]['segments'][0]['departure']['at'],\n",
    "                \"arv_code\": response['data'][i]['itineraries'][0]['segments'][0]['arrival']['iataCode'],\n",
    "                \"arv_datetime\": response['data'][i]['itineraries'][0]['segments'][0]['arrival']['at'],\n",
    "                \"airline_code\": response['data'][i]['itineraries'][0]['segments'][0]['carrierCode'],\n",
    "                \"flight_no\": response['data'][i]['itineraries'][0]['segments'][0]['number'],\n",
    "                \"price_total\": response['data'][i]['price']['grandTotal'],\n",
    "                \"seats_remaining\": response['data'][i]['numberOfBookableSeats'],\n",
    "                \"date_api_request\": datetime.today().strftime('%Y-%m-%d')\n",
    "            }\n",
    "        if data['airline_code'] == '6X':\n",
    "            continue\n",
    "        else:\n",
    "            flight_data.append(data)\n",
    "            index_no += 1\n",
    "\n",
    "    df = pd.DataFrame(flight_data)\n",
    "    df.to_csv('flight_data_iter_2.csv', index=False, mode='a', header=False)\n",
    "    print(f\"wrote {date} -- {orig} -- {dest}\")"
   ]
  }
 ],
 "metadata": {
  "kernelspec": {
   "display_name": "base",
   "language": "python",
   "name": "python3"
  },
  "language_info": {
   "codemirror_mode": {
    "name": "ipython",
    "version": 3
   },
   "file_extension": ".py",
   "mimetype": "text/x-python",
   "name": "python",
   "nbconvert_exporter": "python",
   "pygments_lexer": "ipython3",
   "version": "3.11.8"
  }
 },
 "nbformat": 4,
 "nbformat_minor": 2
}
